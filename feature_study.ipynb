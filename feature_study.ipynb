{
 "cells": [
  {
   "cell_type": "code",
   "execution_count": 2,
   "metadata": {},
   "outputs": [
    {
     "name": "stderr",
     "output_type": "stream",
     "text": [
      "/home/david/git/foundational_features/ff_env/lib/python3.9/site-packages/tqdm/auto.py:21: TqdmWarning: IProgress not found. Please update jupyter and ipywidgets. See https://ipywidgets.readthedocs.io/en/stable/user_install.html\n",
      "  from .autonotebook import tqdm as notebook_tqdm\n"
     ]
    }
   ],
   "source": [
    "import pandas as pd\n",
    "import numpy as np\n",
    "from e2i import EmbeddingsProjector"
   ]
  },
  {
   "cell_type": "code",
   "execution_count": 3,
   "metadata": {},
   "outputs": [],
   "source": [
    "# Input CSV file\n",
    "INPUT_CSV = \"/media/david/datasets/clip_features.csv\""
   ]
  },
  {
   "cell_type": "code",
   "execution_count": 4,
   "metadata": {},
   "outputs": [],
   "source": [
    "def parse_features(features_str):\n",
    "    \"\"\"\n",
    "    Parse the CLIP features from a string representation.\n",
    "    \"\"\"\n",
    "    return np.array([float(x) for x in features_str.strip(\"[]\").split()])\n",
    "\n",
    "def show_tsne(df):\n",
    "    # Extract image URLs and feature vectors\n",
    "    urls = df[\"image_path\"].values  # Image paths\n",
    "    vectors = np.array([parse_features(row) for row in df[\"CLIP_features\"]])  # Feature vectors\n",
    "\n",
    "    # Initialize EmbeddingsProjector\n",
    "    image = EmbeddingsProjector()\n",
    "\n",
    "    # Load URLs and vectors explicitly\n",
    "    image.image_list = np.asarray(urls)\n",
    "    image.data_vectors = np.asarray(vectors)\n",
    "\n",
    "    # Calculate projection and create the image\n",
    "    image.calculate_projection()\n",
    "    image.create_image()"
   ]
  },
  {
   "cell_type": "code",
   "execution_count": 5,
   "metadata": {},
   "outputs": [],
   "source": [
    "def compute_metrics(df):\n",
    "    # Compute the distance between consecutive angles\n",
    "    angles = df[\"angle\"].values"
   ]
  },
  {
   "cell_type": "code",
   "execution_count": null,
   "metadata": {},
   "outputs": [
    {
     "name": "stdout",
     "output_type": "stream",
     "text": [
      "0     0.000000\n",
      "1     0.209440\n",
      "2     0.418879\n",
      "3     0.628319\n",
      "4     0.837758\n",
      "5     1.047198\n",
      "6     1.256637\n",
      "7     1.466077\n",
      "8     1.884956\n",
      "9     2.094395\n",
      "10    2.303835\n",
      "11    2.513274\n",
      "12    2.722714\n",
      "13    2.932153\n",
      "14    3.141593\n",
      "15    3.351032\n",
      "16    1.675516\n",
      "17    3.560472\n",
      "18    3.769911\n",
      "19    3.979351\n",
      "20    4.188790\n",
      "21    4.398230\n",
      "22    4.607669\n",
      "23    4.817109\n",
      "24    5.026548\n",
      "25    5.235988\n",
      "26    5.445427\n",
      "27    5.654867\n",
      "28    5.864306\n",
      "29    6.073746\n",
      "30    0.000000\n",
      "31    0.209440\n",
      "32    0.418879\n",
      "33    0.628319\n",
      "34    0.837758\n",
      "35    1.047198\n",
      "36    1.256637\n",
      "37    1.466077\n",
      "38    1.884956\n",
      "39    2.094395\n",
      "40    2.303835\n",
      "41    2.513274\n",
      "42    2.722714\n",
      "43    2.932153\n",
      "44    3.141593\n",
      "45    3.351032\n",
      "46    1.675516\n",
      "47    3.560472\n",
      "48    3.769911\n",
      "49    3.979351\n",
      "50    4.188790\n",
      "51    4.398230\n",
      "52    4.607669\n",
      "53    4.817109\n",
      "54    5.026548\n",
      "55    5.235988\n",
      "56    5.445427\n",
      "57    5.654867\n",
      "58    5.864306\n",
      "59    6.073746\n",
      "Name: phi, dtype: float64\n"
     ]
    }
   ],
   "source": [
    "# Load the CSV\n",
    "df = pd.read_csv(INPUT_CSV)\n",
    "df.sort_values(by=['phi'])\n"
   ]
  },
  {
   "cell_type": "markdown",
   "metadata": {},
   "source": []
  }
 ],
 "metadata": {
  "kernelspec": {
   "display_name": "ff_env",
   "language": "python",
   "name": "python3"
  },
  "language_info": {
   "codemirror_mode": {
    "name": "ipython",
    "version": 3
   },
   "file_extension": ".py",
   "mimetype": "text/x-python",
   "name": "python",
   "nbconvert_exporter": "python",
   "pygments_lexer": "ipython3",
   "version": "3.9.5"
  }
 },
 "nbformat": 4,
 "nbformat_minor": 2
}
